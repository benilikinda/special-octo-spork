{
  "cells": [
    {
      "cell_type": "code",
      "execution_count": null,
      "metadata": {
        "cellView": "form",
        "id": "-qs4_BtBM46P",
        "colab": {
          "base_uri": "https://localhost:8080/"
        },
        "outputId": "dcdcb438-0fb0-4877-c852-ad38eafbb436"
      },
      "outputs": [
        {
          "output_type": "stream",
          "name": "stdout",
          "text": [
            "Collecting pygit2==1.12.2\n",
            "  Using cached pygit2-1.12.2-cp311-cp311-manylinux_2_17_x86_64.manylinux2014_x86_64.whl.metadata (3.5 kB)\n",
            "Requirement already satisfied: cffi>=1.9.1 in /usr/local/lib/python3.11/dist-packages (from pygit2==1.12.2) (1.17.1)\n",
            "Requirement already satisfied: pycparser in /usr/local/lib/python3.11/dist-packages (from cffi>=1.9.1->pygit2==1.12.2) (2.22)\n",
            "Using cached pygit2-1.12.2-cp311-cp311-manylinux_2_17_x86_64.manylinux2014_x86_64.whl (4.9 MB)\n",
            "Installing collected packages: pygit2\n",
            "  Attempting uninstall: pygit2\n",
            "    Found existing installation: pygit2 1.15.1\n",
            "    Uninstalling pygit2-1.15.1:\n",
            "      Successfully uninstalled pygit2-1.15.1\n",
            "Successfully installed pygit2-1.12.2\n",
            "/content\n",
            "fatal: destination path 'Fooocus_extend' already exists and is not an empty directory.\n"
          ]
        }
      ],
      "source": [
        "# @markdown # Select profile of Fooocus and start/restart\n",
        "\n",
        "Fooocus_Profile = \"realistic\" #@param [\"default\", \"realistic\", \"anime\"]\n",
        "Fooocus_Theme = \"dark\" #@param [\"dark\", \"light\"]\n",
        "Tunnel = \"gradio\" #@param [\"gradio\", \"cloudflared\"]\n",
        "\n",
        "!pip install pygit2==1.12.2\n",
        "%cd /content\n",
        "!git clone https://github.com/shaitanzx/Fooocus_extend.git\n",
        "if Tunnel=='cloudflared':\n",
        "  !wget https://github.com/cloudflare/cloudflared/releases/latest/download/cloudflared-linux-amd64.deb\n",
        "  !dpkg -i cloudflared-linux-amd64.deb\n",
        "  %cd /content/Fooocus_extend\n",
        "  !wget -O /content/Fooocus_extend/patcher_tunel.py https://github.com/shaitanzx/Fooocus_extend/raw/main/patcher_tunel.py\n",
        "  !python /content/Fooocus_extend/patcher_tunel.py\n",
        "  !rm /content/Fooocus_extend/patcher_tunel.py\n",
        "\n",
        "Memory_patch = True #@param {type:\"boolean\"}\n",
        "patch=\"\"\n",
        "if Memory_patch == True :\n",
        "    patch=\"--always-high-vram --all-in-fp16\"\n",
        "\n",
        "GoogleDrive_output = True #@param {type:\"boolean\"}\n",
        "output_foder=\"\"\n",
        "if GoogleDrive_output == True :\n",
        "    from google.colab import drive\n",
        "    drive.mount('/content/drive', force_remount=True)\n",
        "    output_foder=\"--output-path /content/drive/MyDrive/outputs\"\n",
        "    !mkdir /content/drive/MyDrive/outputs\n",
        "\n",
        "%cd /content/Fooocus_extend\n",
        "#run foocus\n",
        "if Fooocus_Profile=='default':\n",
        "  profile=\"\"\n",
        "if Fooocus_Profile=='realistic':\n",
        "  profile=\"--preset realistic\"\n",
        "if Fooocus_Profile=='anime':\n",
        "  profile=\"--preset anime\"\n",
        "\n",
        "if Fooocus_Theme=='dark':\n",
        "  theme=\"--theme dark\"\n",
        "if Fooocus_Theme=='light':\n",
        "  theme=\"\"\n",
        "\n",
        "!python launch.py {profile} {theme} --share {patch} {output_foder}"
      ]
    }
  ],
  "metadata": {
    "accelerator": "GPU",
    "colab": {
      "gpuType": "T4",
      "provenance": []
    },
    "kernelspec": {
      "display_name": "Python 3",
      "name": "python3"
    },
    "language_info": {
      "name": "python"
    }
  },
  "nbformat": 4,
  "nbformat_minor": 0
}